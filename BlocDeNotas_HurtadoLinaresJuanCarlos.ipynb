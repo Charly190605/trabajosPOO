{
  "cells": [
    {
      "cell_type": "code",
      "execution_count": null,
      "metadata": {
        "colab": {
          "base_uri": "https://localhost:8080/"
        },
        "id": "c1tO7VQg3jj0",
        "outputId": "9158e560-0d51-43bb-a764-5a80507d1d35"
      },
      "outputs": [
        {
          "name": "stdout",
          "output_type": "stream",
          "text": [
            "\u001b[2K     \u001b[90m━━━━━━━━━━━━━━━━━━━━━━━━━━━━━━━━━━━━━━━━\u001b[0m \u001b[32m44.3/44.3 kB\u001b[0m \u001b[31m626.1 kB/s\u001b[0m eta \u001b[36m0:00:00\u001b[0m\n",
            "\u001b[2K   \u001b[90m━━━━━━━━━━━━━━━━━━━━━━━━━━━━━━━━━━━━━━━━\u001b[0m \u001b[32m9.8/9.8 MB\u001b[0m \u001b[31m29.1 MB/s\u001b[0m eta \u001b[36m0:00:00\u001b[0m\n",
            "\u001b[2K   \u001b[90m━━━━━━━━━━━━━━━━━━━━━━━━━━━━━━━━━━━━━━━━\u001b[0m \u001b[32m6.9/6.9 MB\u001b[0m \u001b[31m22.2 MB/s\u001b[0m eta \u001b[36m0:00:00\u001b[0m\n",
            "\u001b[2K   \u001b[90m━━━━━━━━━━━━━━━━━━━━━━━━━━━━━━━━━━━━━━━━\u001b[0m \u001b[32m79.1/79.1 kB\u001b[0m \u001b[31m3.8 MB/s\u001b[0m eta \u001b[36m0:00:00\u001b[0m\n",
            "\u001b[?25h"
          ]
        }
      ],
      "source": [
        "!pip install -q streamlit"
      ]
    },
    {
      "cell_type": "code",
      "execution_count": 1,
      "metadata": {
        "colab": {
          "base_uri": "https://localhost:8080/"
        },
        "id": "HN7L3XUG3lUU",
        "outputId": "24870fbb-e20f-421b-fcea-788e15fd1988"
      },
      "outputs": [
        {
          "output_type": "stream",
          "name": "stdout",
          "text": [
            "Writing app.py\n"
          ]
        }
      ],
      "source": [
        "%%writefile app.py\n",
        "\n",
        "import streamlit as st\n",
        "\n",
        "# Clase base Nota\n",
        "class Nota:\n",
        "  def __init__(self, titulo, contenido):\n",
        "    self.titulo = titulo\n",
        "    self.contenido = contenido\n",
        "\n",
        "  def mostrarNota(self):\n",
        "    st.write(f\"**Titulo:** {self.titulo}\")\n",
        "    st.write(f\"**Contenido:** {self.contenido}\")\n",
        "\n",
        "class NotaTexto(Nota):\n",
        "  def __init__(self, titulo, contenido, negrita=False, cursiva=False):\n",
        "    super().__init__(titulo, contenido)\n",
        "    self.negrita = negrita\n",
        "    self.cursiva = cursiva\n",
        "\n",
        "  def mostrarNota(self):\n",
        "    contenido_formateado = self.contenido\n",
        "    if self.negrita and self.cursiva:\n",
        "      contenido_formateado = f\"***{contenido_formateado}***\"\n",
        "    elif self.negrita:\n",
        "      contenido_formateado = f\"**{contenido_formateado}**\"\n",
        "    elif self.cursiva:\n",
        "      contenido_formateado = f\"*{contenido_formateado}*\"\n",
        "\n",
        "    st.write(f\"**Titulo:** {self.titulo}\" )\n",
        "    st.write(f\"**Contenido:** {contenido_formateado}\")\n",
        "\n",
        "class NotaLista(Nota):\n",
        "  def __init__(self, titulo, items):\n",
        "    super().__init__(titulo, \"\\n\".join(items))\n",
        "    self.items = items\n",
        "\n",
        "  def mostrarNota(self):\n",
        "    st.write(f\"**Titulo:** {self.titulo}\")\n",
        "    for item in self.items:\n",
        "      st.write(f\"- {item}\")\n",
        "\n",
        "class NotaImagen(Nota):\n",
        "  def __init__(self, titulo, imagen):\n",
        "    super().__init__(titulo, \"\")\n",
        "    self.imagen = imagen\n",
        "\n",
        "  def mostrarNota(self):\n",
        "    st.write(f\"**Titulo:** {self.titulo}\")\n",
        "    st.image(self.imagen, caption=self.titulo, use_column_width=True)\n",
        "\n",
        "class BlocDeNotas:\n",
        "  def __init__(self):\n",
        "    if \"notas\" not in st.session_state:\n",
        "      st.session_state[\"notas\"] = []\n",
        "\n",
        "  def agregarNota(self, nota):\n",
        "    st.session_state[\"notas\"].append(nota)\n",
        "    st.success(\"Nota agregada con éxito.\")\n",
        "\n",
        "  def mostrarNotas(self):\n",
        "    if st.session_state[\"notas\"]:\n",
        "      for nota in st.session_state[\"notas\"]:\n",
        "        nota.mostrarNota()\n",
        "        st.write(\"---\")\n",
        "    else:\n",
        "      st.write(\"No hay notas guardadas.\")\n",
        "\n",
        "  def buscarNotaPorTitulo(self, titulo):\n",
        "    notas_encontradas = [nota for nota in st.session_state[\"notas\"] if titulo in nota.titulo]\n",
        "    if notas_encontradas:\n",
        "      for nota in notas_encontradas:\n",
        "        nota.mostrarNota()\n",
        "        st.write(\"---\")\n",
        "    else:\n",
        "      st.write(\"No se encontraron notas con ese titulo.\")\n",
        "\n",
        "  def eliminarNota(self, titulo):\n",
        "    for i, nota in enumerate(st.session_state[\"notas\"]):\n",
        "      if titulo == nota.titulo:\n",
        "        del st.session_state[\"notas\"][i]\n",
        "        st.success(f\"Nota con titulo {titulo} fue eliminada con éxito.\")\n",
        "        return\n",
        "    st.error(\"No se encontró ninguna lista con ese título.\")\n",
        "\n",
        "\n",
        "bloc = BlocDeNotas()\n",
        "\n",
        "st.title(\"Bloc de Notas\")\n",
        "\n",
        "titulo = st.text_input(\"Ingrese el título\")\n",
        "nota_tipo = st.selectbox(\"Tipo de nota\", [\"Texto\",\"Lista\",\"Imagen\"])\n",
        "\n",
        "contenido = \"\"\n",
        "contenido_lista = []\n",
        "imagen_subida = None\n",
        "\n",
        "if nota_tipo == \"Texto\":\n",
        "  contenido = st.text_area(\"Ingrese el contenido\")\n",
        "  negrita = st.checkbox(\"Negrita\")\n",
        "  cursiva = st.checkbox(\"Cursiva\")\n",
        "\n",
        "elif nota_tipo == \"Lista\":\n",
        "  contenido_lista = st.text_area(\"Ingrese los elementos de la lista uno por uno\").split(\"\\n\")\n",
        "\n",
        "elif nota_tipo == \"Imagen\":\n",
        "  imagen_subida = st.file_uploader(\"Sube una imagen\", type = [\"jpg\",\"png\",\"jpeg\"])\n",
        "\n",
        "\n",
        "if st.button(\"Agregar Nota\"):\n",
        "  nota = None\n",
        "\n",
        "  if nota_tipo == \"Texto\":\n",
        "    nota = NotaTexto(titulo, contenido, negrita, cursiva)\n",
        "\n",
        "  elif nota_tipo == \"Lista\":\n",
        "    nota = NotaLista(titulo, contenido_lista)\n",
        "\n",
        "  elif nota_tipo == \"Imagen\":\n",
        "    if imagen_subida is not None:\n",
        "      nota = NotaImagen(titulo, imagen_subida)\n",
        "    else:\n",
        "      st.error(\"Debes subir una imagen antes de agregar la nota.\")\n",
        "\n",
        "  if nota:\n",
        "    bloc.agregarNota(nota)\n",
        "\n",
        "if st.button(\"Mostrar notas\"):\n",
        "  bloc.mostrarNotas()\n",
        "\n",
        "titulo_buscar = st.text_input(\"Buscar nota por titulo\")\n",
        "if st.button(\"Buscar Nota\"):\n",
        "  bloc.buscarNotaPorTitulo(titulo_buscar)\n",
        "\n",
        "titulo_eliminar = st.text_input(\"Eliminar nota por titulo\")\n",
        "if st.button(\"Eliminar Nota\"):\n",
        "  bloc.eliminarNota(titulo_eliminar)"
      ]
    },
    {
      "cell_type": "code",
      "execution_count": null,
      "metadata": {
        "colab": {
          "base_uri": "https://localhost:8080/"
        },
        "id": "xlE9oM9-3qix",
        "outputId": "e1243567-9559-45ad-d954-ce565d676727"
      },
      "outputs": [
        {
          "name": "stdout",
          "output_type": "stream",
          "text": [
            "\u001b[1G\u001b[0K⠙\u001b[1G\u001b[0K⠹\u001b[1G\u001b[0K⠸\u001b[1G\u001b[0K⠼\u001b[1G\u001b[0K⠴\u001b[1G\u001b[0K⠦\u001b[1G\u001b[0K⠧\u001b[1G\u001b[0K⠇\u001b[1G\u001b[0K⠏\u001b[1G\u001b[0K⠋\u001b[1G\u001b[0K⠙\u001b[1G\u001b[0K⠹\u001b[1G\u001b[0K⠸\u001b[1G\u001b[0K⠼\u001b[1G\u001b[0K⠴\u001b[1G\u001b[0K⠦\u001b[1G\u001b[0K⠧\u001b[1G\u001b[0K⠇\u001b[1G\u001b[0K⠏\u001b[1G\u001b[0K⠋\u001b[1G\u001b[0K⠙\u001b[1G\u001b[0K⠹\u001b[1G\u001b[0K⠸\u001b[1G\u001b[0K⠼\u001b[1G\u001b[0K⠴\u001b[1G\u001b[0K⠦\u001b[1G\u001b[0K⠧\u001b[1G\u001b[0K\n",
            "added 22 packages in 5s\n",
            "\u001b[1G\u001b[0K⠧\u001b[1G\u001b[0K\n",
            "\u001b[1G\u001b[0K⠧\u001b[1G\u001b[0K3 packages are looking for funding\n",
            "\u001b[1G\u001b[0K⠧\u001b[1G\u001b[0K  run `npm fund` for details\n",
            "\u001b[1G\u001b[0K⠧\u001b[1G\u001b[0K"
          ]
        }
      ],
      "source": [
        "!npm install localtunnel"
      ]
    },
    {
      "cell_type": "code",
      "execution_count": null,
      "metadata": {
        "colab": {
          "base_uri": "https://localhost:8080/"
        },
        "id": "uUTySttB3svM",
        "outputId": "c0e3170f-6a5d-4655-99a9-33bb93c91948"
      },
      "outputs": [
        {
          "output_type": "stream",
          "name": "stdout",
          "text": [
            "35.193.76.78\n",
            "\u001b[1G\u001b[0K⠙\u001b[1G\u001b[0Kyour url is: https://olive-carrots-matter.loca.lt\n"
          ]
        }
      ],
      "source": [
        "!streamlit run app.py &>/content/logs.txt & npx localtunnel --port 8501 & curl ipv4.icanhazip.com"
      ]
    }
  ],
  "metadata": {
    "colab": {
      "provenance": []
    },
    "kernelspec": {
      "display_name": "Python 3",
      "name": "python3"
    },
    "language_info": {
      "name": "python"
    }
  },
  "nbformat": 4,
  "nbformat_minor": 0
}