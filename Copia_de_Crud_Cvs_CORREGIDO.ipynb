{
  "nbformat": 4,
  "nbformat_minor": 0,
  "metadata": {
    "colab": {
      "provenance": [],
      "include_colab_link": true
    },
    "kernelspec": {
      "name": "python3",
      "display_name": "Python 3"
    },
    "language_info": {
      "name": "python"
    }
  },
  "cells": [
    {
      "cell_type": "markdown",
      "metadata": {
        "id": "view-in-github",
        "colab_type": "text"
      },
      "source": [
        "<a href=\"https://colab.research.google.com/github/Charly190605/trabajosPOO/blob/main/Copia_de_Crud_Cvs_CORREGIDO.ipynb\" target=\"_parent\"><img src=\"https://colab.research.google.com/assets/colab-badge.svg\" alt=\"Open In Colab\"/></a>"
      ]
    },
    {
      "cell_type": "code",
      "source": [
        "with open('usuarios.csv', 'r') as f:\n",
        "    lineas = f.readlines()\n",
        "\n",
        "if not lineas[0].startswith(\"id\"):\n",
        "    with open('usuarios.csv', 'w') as f:\n",
        "        f.write(\"id,nombre,correo,edad\\n\")\n",
        "        f.writelines(lineas)\n",
        "    print(\"Encabezado agregado correctamente.\")\n",
        "else:\n",
        "    print(\"El archivo ya tiene encabezado.\")"
      ],
      "metadata": {
        "colab": {
          "base_uri": "https://localhost:8080/"
        },
        "id": "FjEeXx4QK2cp",
        "outputId": "0a505386-856d-4b71-f7e1-33ceeaaf1d02"
      },
      "execution_count": null,
      "outputs": [
        {
          "output_type": "stream",
          "name": "stdout",
          "text": [
            "Encabezado agregado correctamente.\n"
          ]
        }
      ]
    },
    {
      "cell_type": "code",
      "execution_count": null,
      "metadata": {
        "colab": {
          "base_uri": "https://localhost:8080/",
          "height": 1000
        },
        "id": "GC5L-UJhgk2q",
        "outputId": "2b14563e-3071-474b-964b-2715decd7a85"
      },
      "outputs": [
        {
          "output_type": "stream",
          "name": "stdout",
          "text": [
            "\n",
            "--- Sistema CRUD con CSV ---\n",
            "1. Ver usuarios\n",
            "2. Agregar usuario\n",
            "3. Actualizar usuario\n",
            "4. Eliminar usuario\n",
            "5. Salir\n",
            "Selecciona una opción: 1\n",
            "Usuarios registrados: \n",
            "1 - Carlos - guzman@gmail.com - 19 años\n",
            "\n",
            "--- Sistema CRUD con CSV ---\n",
            "1. Ver usuarios\n",
            "2. Agregar usuario\n",
            "3. Actualizar usuario\n",
            "4. Eliminar usuario\n",
            "5. Salir\n",
            "Selecciona una opción: 2\n",
            "ID del usuario: 2\n",
            "Nombre: GG\n",
            "Correo: jaja@gmail.com\n",
            "Edad: 2\n",
            "\n",
            "--- Sistema CRUD con CSV ---\n",
            "1. Ver usuarios\n",
            "2. Agregar usuario\n",
            "3. Actualizar usuario\n",
            "4. Eliminar usuario\n",
            "5. Salir\n",
            "Selecciona una opción: 1\n",
            "Usuarios registrados: \n",
            "1 - Carlos - guzman@gmail.com - 19 años\n",
            "2 - GG - jaja@gmail.com - 2 años\n",
            "\n",
            "--- Sistema CRUD con CSV ---\n",
            "1. Ver usuarios\n",
            "2. Agregar usuario\n",
            "3. Actualizar usuario\n",
            "4. Eliminar usuario\n",
            "5. Salir\n",
            "Selecciona una opción: 3\n",
            "ID del usuario a actualizar: 1\n",
            "Nuevo nombre (actual: Carlos): Luis\n",
            "Nuevo correo (actual: guzman@gmail.com): uwu@gmail.com\n",
            "Nueva edad (actual: 19): 20\n",
            "Usuario actualizado con éxito.\n",
            "\n",
            "--- Sistema CRUD con CSV ---\n",
            "1. Ver usuarios\n",
            "2. Agregar usuario\n",
            "3. Actualizar usuario\n",
            "4. Eliminar usuario\n",
            "5. Salir\n",
            "Selecciona una opción: 1\n",
            "Usuarios registrados: \n",
            "1 - Luis - uwu@gmail.com - 20 años\n",
            "2 - GG - jaja@gmail.com - 2 años\n",
            "\n",
            "--- Sistema CRUD con CSV ---\n",
            "1. Ver usuarios\n",
            "2. Agregar usuario\n",
            "3. Actualizar usuario\n",
            "4. Eliminar usuario\n",
            "5. Salir\n"
          ]
        },
        {
          "output_type": "error",
          "ename": "KeyboardInterrupt",
          "evalue": "Interrupted by user",
          "traceback": [
            "\u001b[0;31m---------------------------------------------------------------------------\u001b[0m",
            "\u001b[0;31mKeyboardInterrupt\u001b[0m                         Traceback (most recent call last)",
            "\u001b[0;32m<ipython-input-4-47b15b9832ae>\u001b[0m in \u001b[0;36m<cell line: 0>\u001b[0;34m()\u001b[0m\n\u001b[1;32m     92\u001b[0m         \u001b[0mprint\u001b[0m\u001b[0;34m(\u001b[0m\u001b[0;34m\"5. Salir\"\u001b[0m\u001b[0;34m)\u001b[0m\u001b[0;34m\u001b[0m\u001b[0;34m\u001b[0m\u001b[0m\n\u001b[1;32m     93\u001b[0m \u001b[0;34m\u001b[0m\u001b[0m\n\u001b[0;32m---> 94\u001b[0;31m         \u001b[0mopcion\u001b[0m \u001b[0;34m=\u001b[0m \u001b[0minput\u001b[0m\u001b[0;34m(\u001b[0m\u001b[0;34m\"Selecciona una opción: \"\u001b[0m\u001b[0;34m)\u001b[0m\u001b[0;34m\u001b[0m\u001b[0;34m\u001b[0m\u001b[0m\n\u001b[0m\u001b[1;32m     95\u001b[0m \u001b[0;34m\u001b[0m\u001b[0m\n\u001b[1;32m     96\u001b[0m         \u001b[0;32mif\u001b[0m \u001b[0mopcion\u001b[0m \u001b[0;34m==\u001b[0m \u001b[0;34m'1'\u001b[0m\u001b[0;34m:\u001b[0m\u001b[0;34m\u001b[0m\u001b[0;34m\u001b[0m\u001b[0m\n",
            "\u001b[0;32m/usr/local/lib/python3.11/dist-packages/ipykernel/kernelbase.py\u001b[0m in \u001b[0;36mraw_input\u001b[0;34m(self, prompt)\u001b[0m\n\u001b[1;32m   1175\u001b[0m                 \u001b[0;34m\"raw_input was called, but this frontend does not support input requests.\"\u001b[0m\u001b[0;34m\u001b[0m\u001b[0;34m\u001b[0m\u001b[0m\n\u001b[1;32m   1176\u001b[0m             )\n\u001b[0;32m-> 1177\u001b[0;31m         return self._input_request(\n\u001b[0m\u001b[1;32m   1178\u001b[0m             \u001b[0mstr\u001b[0m\u001b[0;34m(\u001b[0m\u001b[0mprompt\u001b[0m\u001b[0;34m)\u001b[0m\u001b[0;34m,\u001b[0m\u001b[0;34m\u001b[0m\u001b[0;34m\u001b[0m\u001b[0m\n\u001b[1;32m   1179\u001b[0m             \u001b[0mself\u001b[0m\u001b[0;34m.\u001b[0m\u001b[0m_parent_ident\u001b[0m\u001b[0;34m[\u001b[0m\u001b[0;34m\"shell\"\u001b[0m\u001b[0;34m]\u001b[0m\u001b[0;34m,\u001b[0m\u001b[0;34m\u001b[0m\u001b[0;34m\u001b[0m\u001b[0m\n",
            "\u001b[0;32m/usr/local/lib/python3.11/dist-packages/ipykernel/kernelbase.py\u001b[0m in \u001b[0;36m_input_request\u001b[0;34m(self, prompt, ident, parent, password)\u001b[0m\n\u001b[1;32m   1217\u001b[0m             \u001b[0;32mexcept\u001b[0m \u001b[0mKeyboardInterrupt\u001b[0m\u001b[0;34m:\u001b[0m\u001b[0;34m\u001b[0m\u001b[0;34m\u001b[0m\u001b[0m\n\u001b[1;32m   1218\u001b[0m                 \u001b[0;31m# re-raise KeyboardInterrupt, to truncate traceback\u001b[0m\u001b[0;34m\u001b[0m\u001b[0;34m\u001b[0m\u001b[0m\n\u001b[0;32m-> 1219\u001b[0;31m                 \u001b[0;32mraise\u001b[0m \u001b[0mKeyboardInterrupt\u001b[0m\u001b[0;34m(\u001b[0m\u001b[0;34m\"Interrupted by user\"\u001b[0m\u001b[0;34m)\u001b[0m \u001b[0;32mfrom\u001b[0m \u001b[0;32mNone\u001b[0m\u001b[0;34m\u001b[0m\u001b[0;34m\u001b[0m\u001b[0m\n\u001b[0m\u001b[1;32m   1220\u001b[0m             \u001b[0;32mexcept\u001b[0m \u001b[0mException\u001b[0m\u001b[0;34m:\u001b[0m\u001b[0;34m\u001b[0m\u001b[0;34m\u001b[0m\u001b[0m\n\u001b[1;32m   1221\u001b[0m                 \u001b[0mself\u001b[0m\u001b[0;34m.\u001b[0m\u001b[0mlog\u001b[0m\u001b[0;34m.\u001b[0m\u001b[0mwarning\u001b[0m\u001b[0;34m(\u001b[0m\u001b[0;34m\"Invalid Message:\"\u001b[0m\u001b[0;34m,\u001b[0m \u001b[0mexc_info\u001b[0m\u001b[0;34m=\u001b[0m\u001b[0;32mTrue\u001b[0m\u001b[0;34m)\u001b[0m\u001b[0;34m\u001b[0m\u001b[0;34m\u001b[0m\u001b[0m\n",
            "\u001b[0;31mKeyboardInterrupt\u001b[0m: Interrupted by user"
          ]
        }
      ],
      "source": [
        "import csv\n",
        "\n",
        "class User:\n",
        "    def __init__(self, user_id, nombre, correo, edad):\n",
        "        self.user_id = user_id\n",
        "        self.nombre = nombre\n",
        "        self.correo = correo\n",
        "        self.edad = edad\n",
        "\n",
        "    def __str__(self):\n",
        "        return f\"{self.user_id} - {self.nombre} - {self.correo} - {self.edad} años\"\n",
        "\n",
        "\n",
        "class UserManager:\n",
        "    def __init__(self, archivo_csv):\n",
        "        self.archivo_csv = archivo_csv\n",
        "\n",
        "    def leer_usuarios(self):\n",
        "      try:\n",
        "        with open(self.archivo_csv, mode='r', newline='') as file:\n",
        "            reader = csv.DictReader(file)\n",
        "            print(\"Usuarios registrados: \")\n",
        "            for row in reader:\n",
        "              if row:\n",
        "                print(f\"{row['id']} - {row['nombre']} - {row['correo']} - {row['edad']} años\")\n",
        "      except FileNotFoundError:\n",
        "        print(\"Archivo de usuario no existe\")\n",
        "\n",
        "    def agregar_usuario(self, user: User):\n",
        "        with open(self.archivo_csv, mode='a', newline='') as file:\n",
        "            writer = csv.DictWriter(file, fieldnames=['id', 'nombre', 'correo', 'edad'])\n",
        "            writer.writerow({'id': user.user_id, 'nombre': user.nombre, 'correo': user.correo, 'edad': user.edad})\n",
        "\n",
        "    def actualizar_usuario(self, id_usuario):\n",
        "        usuarios = []\n",
        "        actualizado = False\n",
        "\n",
        "        with open(self.archivo_csv, mode='r') as file:\n",
        "            reader = csv.DictReader(file)\n",
        "            for row in reader:\n",
        "                if row['id'] == str(id_usuario):\n",
        "                    nombre = input(f\"Nuevo nombre (actual: {row['nombre']}): \") or row['nombre']\n",
        "                    correo = input(f\"Nuevo correo (actual: {row['correo']}): \") or row['correo']\n",
        "                    edad = input(f\"Nueva edad (actual: {row['edad']}): \") or row['edad']\n",
        "                    row = {'id': row['id'], 'nombre': nombre, 'correo': correo, 'edad': edad}\n",
        "                    actualizado = True\n",
        "                usuarios.append(row)\n",
        "\n",
        "        if actualizado:\n",
        "            with open(self.archivo_csv, mode='w', newline='') as file:\n",
        "                writer = csv.DictWriter(file, fieldnames=['id', 'nombre', 'correo', 'edad'])\n",
        "                writer.writeheader()\n",
        "                writer.writerows(usuarios)\n",
        "            print(\"Usuario actualizado con éxito.\")\n",
        "        else:\n",
        "            print(\"Usuario no encontrado.\")\n",
        "\n",
        "    def eliminar_usuario(self, id_usuario):\n",
        "        usuarios = []\n",
        "        eliminado = False\n",
        "\n",
        "        with open(self.archivo_csv, mode='r', newline='') as file:\n",
        "            reader = csv.DictReader(file)\n",
        "            for row in reader:\n",
        "                if row['id'] != str(id_usuario):\n",
        "                    usuarios.append(row)\n",
        "                else:\n",
        "                    eliminado = True\n",
        "\n",
        "        if eliminado:\n",
        "            with open(self.archivo_csv, mode='w', newline='') as file:\n",
        "                writer = csv.DictWriter(file, fieldnames=['id', 'nombre', 'correo', 'edad'])\n",
        "                writer.writeheader()\n",
        "                writer.writerows(usuarios)\n",
        "            print(\"Usuario eliminado con éxito.\")\n",
        "        else:\n",
        "            print(\"Usuario no encontrado.\")\n",
        "\n",
        "\n",
        "# Ejemplo de uso:\n",
        "if __name__ == \"__main__\":\n",
        "    archivo = 'usuarios.csv'\n",
        "    user_manager = UserManager(archivo)\n",
        "\n",
        "    # Opciones del menú\n",
        "    while True:\n",
        "        print(\"\\n--- Sistema CRUD con CSV ---\")\n",
        "        print(\"1. Ver usuarios\")\n",
        "        print(\"2. Agregar usuario\")\n",
        "        print(\"3. Actualizar usuario\")\n",
        "        print(\"4. Eliminar usuario\")\n",
        "        print(\"5. Salir\")\n",
        "\n",
        "        opcion = input(\"Selecciona una opción: \")\n",
        "\n",
        "        if opcion == '1':\n",
        "            user_manager.leer_usuarios()\n",
        "        elif opcion == '2':\n",
        "            user_id = input(\"ID del usuario: \")\n",
        "            nombre = input(\"Nombre: \")\n",
        "            correo = input(\"Correo: \")\n",
        "            edad = input(\"Edad: \")\n",
        "            user = User(user_id, nombre, correo, edad)\n",
        "            user_manager.agregar_usuario(user)\n",
        "        elif opcion == '3':\n",
        "            id_usuario = input(\"ID del usuario a actualizar: \")\n",
        "            user_manager.actualizar_usuario(id_usuario)\n",
        "        elif opcion == '4':\n",
        "            id_usuario = input(\"ID del usuario a eliminar: \")\n",
        "            user_manager.eliminar_usuario(id_usuario)\n",
        "        elif opcion == '5':\n",
        "            break\n",
        "        else:\n",
        "            print(\"Opción no válida, inténtalo de nuevo.\")"
      ]
    },
    {
      "cell_type": "code",
      "source": [
        "with open('usuarios.csv', 'r') as file:\n",
        "  print(file.read())"
      ],
      "metadata": {
        "id": "ply2rdgpE58Y",
        "outputId": "70dd6034-acff-4d45-91a2-636c369c44f8",
        "colab": {
          "base_uri": "https://localhost:8080/"
        }
      },
      "execution_count": null,
      "outputs": [
        {
          "output_type": "stream",
          "name": "stdout",
          "text": [
            "1,Carlos,guzman@gmail.com,19\n",
            "\n"
          ]
        }
      ]
    }
  ]
}