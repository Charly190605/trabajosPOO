{
  "nbformat": 4,
  "nbformat_minor": 0,
  "metadata": {
    "colab": {
      "provenance": [],
      "include_colab_link": true
    },
    "kernelspec": {
      "name": "python3",
      "display_name": "Python 3"
    },
    "language_info": {
      "name": "python"
    }
  },
  "cells": [
    {
      "cell_type": "markdown",
      "metadata": {
        "id": "view-in-github",
        "colab_type": "text"
      },
      "source": [
        "<a href=\"https://colab.research.google.com/github/Charly190605/trabajosPOO/blob/main/Actividad1.ipynb\" target=\"_parent\"><img src=\"https://colab.research.google.com/assets/colab-badge.svg\" alt=\"Open In Colab\"/></a>"
      ]
    },
    {
      "cell_type": "code",
      "execution_count": null,
      "metadata": {
        "colab": {
          "base_uri": "https://localhost:8080/"
        },
        "id": "wlixN2GIrd90",
        "outputId": "6f26c6eb-8a2e-4735-bd85-0f9e90edfe77"
      },
      "outputs": [
        {
          "output_type": "stream",
          "name": "stdout",
          "text": [
            "Toyota, Corolla, 2020\n",
            "2025-02-21\n"
          ]
        }
      ],
      "source": [
        "import datetime\n",
        "\n",
        "class auto:\n",
        "  def __init__(self, marca, modelo, anho):\n",
        "    self.marca = marca\n",
        "    self.modelo = modelo\n",
        "    self.anho = anho\n",
        "\n",
        "  def get_info(self):\n",
        "    print(f\"{self.marca}, {self.modelo}, {self.anho}\")\n",
        "  def ultima_verificacion(self):\n",
        "    hoy = datetime.datetime.now()\n",
        "    dia = hoy.day\n",
        "    mes = hoy.month\n",
        "    anho = hoy.year\n",
        "\n",
        "    hoy = datetime.date(anho, mes, dia)\n",
        "    print(hoy)\n",
        "\n",
        "\n",
        "\n",
        "my_car = auto(\"Toyota\", \"Corolla\", 2020)\n",
        "my_car.get_info()\n",
        "my_car.ultima_verificacion()"
      ]
    }
  ]
}